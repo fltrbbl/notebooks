{
 "cells": [
  {
   "cell_type": "code",
   "execution_count": 2,
   "metadata": {},
   "outputs": [
    {
     "name": "stdout",
     "output_type": "stream",
     "text": [
      "getting page 2\n",
      "getting page 3\n",
      "getting page 4\n",
      "getting page 5\n",
      "getting page 6\n",
      "getting page 7\n",
      "getting page 8\n",
      "getting page 9\n",
      "getting page 10\n",
      "getting page 11\n",
      "getting page 12\n",
      "getting page 13\n",
      "getting page 14\n",
      "getting page 15\n",
      "getting page 16\n",
      "got 14189 articles\n"
     ]
    }
   ],
   "source": [
    "import requests\n",
    "import json\n",
    "from requests.auth import HTTPBasicAuth\n",
    "\n",
    "base_url = 'http://localhost:8080/'\n",
    "\n",
    "creds = dict(username='testemail@abc.de', password='testpassword')\n",
    "\n",
    "def get_articles():\n",
    "    page = 1\n",
    "    articles = []\n",
    "    articles_resp = requests.get(base_url + 'feed', auth=HTTPBasicAuth(**creds),\n",
    "                                 params={'page': page, 'pagesize': 1000})\n",
    "    while articles_resp.ok:\n",
    "        articles += articles_resp.json()\n",
    "        \n",
    "        page += 1\n",
    "        print('getting page %s' % page)\n",
    "        articles_resp = requests.get(base_url + 'feed', auth=HTTPBasicAuth(**creds),\n",
    "                                     params={'page': page, 'pagesize': 1000})\n",
    "    return articles\n",
    "\n",
    "articles = get_articles()\n",
    "print('got %s articles' % len(articles))\n",
    "with open('articles.json', 'w+') as f:\n",
    "    json.dump(articles, f)"
   ]
  },
  {
   "cell_type": "code",
   "execution_count": null,
   "metadata": {},
   "outputs": [],
   "source": []
  }
 ],
 "metadata": {
  "kernelspec": {
   "display_name": "Python 3",
   "language": "python",
   "name": "python3"
  },
  "language_info": {
   "codemirror_mode": {
    "name": "ipython",
    "version": 3
   },
   "file_extension": ".py",
   "mimetype": "text/x-python",
   "name": "python",
   "nbconvert_exporter": "python",
   "pygments_lexer": "ipython3",
   "version": "3.6.6"
  }
 },
 "nbformat": 4,
 "nbformat_minor": 2
}
